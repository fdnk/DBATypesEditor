{
 "cells": [
  {
   "cell_type": "code",
   "execution_count": 1,
   "metadata": {},
   "outputs": [
    {
     "name": "stdout",
     "output_type": "stream",
     "text": [
      "Fecha de creación del XML: 3/18/2020 5:45:44 PM\n",
      "Tipos encontrados: ['PC_FEEDER_GIS_V1']\n"
     ]
    }
   ],
   "source": [
    "import xml.etree.ElementTree as ET\n",
    "tree = ET.parse('feedergis1.xml')\n",
    "root = tree.getroot()\n",
    "print(\"Fecha de creación del XML:\",root.attrib['Date'])\n",
    "\n",
    "# Obtengo los nombres de cada elemento del documento\n",
    "childs = list(map(lambda x: x.attrib['Na'], root))\n",
    "print(\"Tipos encontrados:\", childs)"
   ]
  },
  {
   "cell_type": "code",
   "execution_count": 2,
   "metadata": {},
   "outputs": [
    {
     "data": {
      "text/plain": [
       "{'Na': 'PC_FEEDER_GIS_V1',\n",
       " 'Ty': 'PC_FEEDER',\n",
       " 'Ver': '1',\n",
       " 'Ad': '',\n",
       " 'Ch': '@CHANNELNAME',\n",
       " 'CU': '@CHANNELUNIT',\n",
       " 'Cn': '@UNITCONNECTION',\n",
       " 'Area': '',\n",
       " 'LastChange': '2020~3~14~15~58~24'}"
      ]
     },
     "execution_count": 2,
     "metadata": {},
     "output_type": "execute_result"
    }
   ],
   "source": [
    "# Rescato el primer elemento\n",
    "elem = root[0]\n",
    "elem.attrib"
   ]
  },
  {
   "cell_type": "code",
   "execution_count": 90,
   "metadata": {},
   "outputs": [],
   "source": [
    "templates = ET.parse('templates.xml')\n",
    "\n",
    "temps = templates.getroot()\n",
    "tipos = list(map(lambda x: x.attrib['type'], temps))"
   ]
  },
  {
   "cell_type": "code",
   "execution_count": 99,
   "metadata": {},
   "outputs": [
    {
     "data": {
      "text/plain": [
       "['DWORD', 'FLOAT']"
      ]
     },
     "execution_count": 99,
     "metadata": {},
     "output_type": "execute_result"
    }
   ],
   "source": [
    "[x for x in tipos if \"O\" in x]"
   ]
  },
  {
   "cell_type": "code",
   "execution_count": 21,
   "metadata": {},
   "outputs": [
    {
     "name": "stdout",
     "output_type": "stream",
     "text": [
      "<signal type=\"DWORD\">\n",
      "\t\t<T Ad=\"RP:\" Ex=\"-1\" Na=\"POS8TEST\" O=\"R\" Te=\"\" Ty=\"DWORD\" />\n",
      "\t\t<EA Ca=\"Address\" DCa=\"Address##Adresse\" DNa=\"POS8TEST - FC (Functional Constraint)##POS8TEST - FC (Functional Constraint)\" De=\"POS8TEST FC (Functional Constraint)##POS8TEST FC (Functional Constraint)\" Na=\"POS8TEST#P6c\" O=\"R\" Pe=\"ro\" Ty=\"str\" V=\"ST\" Vi=\"-1\" />\n",
      "\t\t<EA Ca=\"Address\" DCa=\"Address##Adresse\" DNa=\"POS8TEST - Flag##POS8TEST - Flag\" De=\"POS8TEST Flag##POS8TEST Flag\" Na=\"POS8TEST#P7b\" O=\"R\" Pe=\"\" Ty=\"enumeration\" V=\"VALUE\" Values=\"$DYN$-$TC$FL$POS8TEST\" Vi=\"-1\" />\n",
      "\t\t<EA Ca=\"Address\" DCa=\"Address##Adresse\" DNa=\"POS8TEST - Dataset##POS8TEST - Datensatz\" De=\"POS8TEST Dataset##POS8TEST Datensatz\" Im=\"-1\" Na=\"POS8TEST#P7c_\" O=\"R\" Pe=\"ro\" Ty=\"str\" V=\"\" Vi=\"0\" />\n",
      "\t\t<EA Ca=\"Address\" DCa=\"Address##Adresse\" DNa=\"POS8TEST - Address Offsets##POS8TEST - Adressverschiebung\" De=\"POS8TEST Address Offsets##POS8TEST Adressverschiebung\" Im=\"-1\" Na=\"POS8TEST#P7\" O=\"R\" Pe=\"ro\" Ty=\"str\" V=\"DTYPE/DA_OFFSET/T_OFFSET/Q_OFFSET\" Vi=\"0\" />\n",
      "\t\t<EA Ca=\"Address\" DCa=\"Address##Adresse\" DNa=\"POS8TEST - Data Attribute##POS8TEST - Datenattribute\" De=\"POS8TEST Data Attribute##POS8TEST Datenattribute\" Na=\"POS8TEST#P6e\" O=\"R\" Pe=\"ro\" Ty=\"str\" V=\"B01.GGIO0.SPCSO5.stValTEST\" Vi=\"-1\" />\n",
      "\t\t<EA Ca=\"Address\" DCa=\"Address##Adresse\" DNa=\"POS8TEST - Dataset##POS8TEST - Datensatz\" De=\"POS8TEST Dataset##POS8TEST Datensatz\" Na=\"POS8TEST#P7c1\" O=\"R\" Pe=\"rw\" Ty=\"str\" V=\"\" Vi=\"0\" />\n",
      "\t\t<EA Ca=\"Address\" DCa=\"Address##Adresse\" DNa=\"POS8TEST - Dataset##POS8TEST - Datensatz\" De=\"POS8TEST Dataset##POS8TEST Datensatz\" Na=\"POS8TEST#P7c\" O=\"R\" Pe=\"rw\" Ty=\"enumeration\" V=\"@ST_dset\" Values=\"$DYN$TC$DS$POS8TEST\" Vi=\"-1\" />\n",
      "\t\t<EA Ca=\"Address\" DCa=\"Address##Adresse\" DNa=\"POS8TEST - Data Encoding##POS8TEST - Datenkodierung\" De=\"POS8TEST Data Encoding##POS8TEST Datenkodierung\" Na=\"POS8TEST#P9\" O=\"R\" Pe=\"rw\" Ty=\"str\" V=\"\" Vi=\"-1\" />\n",
      "\t</signal>\n",
      "\t\n"
     ]
    }
   ],
   "source": [
    "# En el template hago los reemplazos de texto, y vuelvo a convertir a XML\n",
    "new_elem_str=ET.tostring(temps[0], encoding='unicode').replace(\"REPLACE_NAME\", \"POS8TEST\").replace(\"REPLACE_VAL\",\"B01.GGIO0.SPCSO5.stValTEST\")\n",
    "new_elem = ET.fromstring(new_elem_str)\n",
    "\n",
    "print(new_elem_str)"
   ]
  },
  {
   "cell_type": "code",
   "execution_count": 22,
   "metadata": {},
   "outputs": [],
   "source": [
    "# Debo volcar el contenido del template en el archivo principal (ojo! excluir la raiz)\n",
    "for x in new_elem:\n",
    "    elem.append(x)"
   ]
  },
  {
   "cell_type": "code",
   "execution_count": 27,
   "metadata": {},
   "outputs": [],
   "source": [
    "tree.write('output.xml')"
   ]
  },
  {
   "cell_type": "code",
   "execution_count": 29,
   "metadata": {},
   "outputs": [
    {
     "data": {
      "text/plain": [
       "1"
      ]
     },
     "execution_count": 29,
     "metadata": {},
     "output_type": "execute_result"
    }
   ],
   "source": [
    "len(root)"
   ]
  },
  {
   "cell_type": "code",
   "execution_count": 30,
   "metadata": {},
   "outputs": [],
   "source": [
    "import csv"
   ]
  },
  {
   "cell_type": "code",
   "execution_count": 118,
   "metadata": {},
   "outputs": [
    {
     "data": {
      "text/plain": [
       "False"
      ]
     },
     "execution_count": 118,
     "metadata": {},
     "output_type": "execute_result"
    }
   ],
   "source": [
    "input_file = csv.DictReader(open(\"input.csv\"), delimiter=';')\n",
    "x=input_file.fieldnames\n",
    "\n",
    "len(set(x))==len(x)"
   ]
  },
  {
   "cell_type": "code",
   "execution_count": 83,
   "metadata": {},
   "outputs": [
    {
     "data": {
      "text/plain": [
       "OrderedDict([('Variebla DBA;Data Attribute', 'POS81;B01.CSWI4.Pos.stVal')])"
      ]
     },
     "execution_count": 83,
     "metadata": {},
     "output_type": "execute_result"
    }
   ],
   "source": [
    "b = 0\n",
    "for x in input_file:\n",
    "    b=x\n",
    "    \n",
    "b"
   ]
  },
  {
   "cell_type": "code",
   "execution_count": 119,
   "metadata": {},
   "outputs": [
    {
     "name": "stdout",
     "output_type": "stream",
     "text": [
      "OrderedDict([('type', 'SP'), ('REPLACE_NAME', 'TGA5.GGIO0.SPCSO76.stVal')])\n",
      "OrderedDict([('type', 'SP'), ('REPLACE_NAME', 'TGA5.GGIO0.SPCSO33.stVal')])\n",
      "OrderedDict([('type', 'SP'), ('REPLACE_NAME', 'TGA5.GGIO0.SPCSO72.stVal')])\n",
      "OrderedDict([('type', 'SP'), ('REPLACE_NAME', 'TGA5.GGIO0.SPCSO61.stVal')])\n",
      "OrderedDict([('type', 'SP'), ('REPLACE_NAME', 'TGA5.GGIO0.SPCSO66.stVal')])\n",
      "OrderedDict([('type', 'ME_FL'), ('REPLACE_NAME', 'B01.MMXU0.Hz.mag.f')])\n",
      "OrderedDict([('type', 'ME_FL'), ('REPLACE_NAME', 'B01.MMXU0.A.neut.cVal.mag.f')])\n",
      "OrderedDict([('type', 'ME_FL'), ('REPLACE_NAME', 'B01.MMXU0.A.phsA.cVal.mag.f')])\n",
      "OrderedDict([('type', 'ME_FL'), ('REPLACE_NAME', 'B01.MMXU0.A.phsB.cVal.mag.f')])\n",
      "OrderedDict([('type', 'ME_FL'), ('REPLACE_NAME', 'B01.MMXU0.A.phsC.cVal.mag.f')])\n",
      "OrderedDict([('type', 'DP'), ('REPLACE_NAME', 'B01.CSWI1.Pos.stVal')])\n",
      "OrderedDict([('type', 'DP'), ('REPLACE_NAME', 'B01.CSWI2.Pos.stVal')])\n",
      "OrderedDict([('type', 'DP'), ('REPLACE_NAME', 'B01.CSWI3.Pos.stVal')])\n",
      "OrderedDict([('type', 'DP'), ('REPLACE_NAME', 'B01.CSWI4.Pos.stVal')])\n",
      "OrderedDict([('type', 'DP'), ('REPLACE_NAME', 'B01.CSWI5.Pos.stVal')])\n",
      "OrderedDict([('type', 'DP'), ('REPLACE_NAME', 'B01.CSWI6.Pos.stVal')])\n",
      "OrderedDict([('type', 'DP'), ('REPLACE_NAME', 'B01.CSWI7.Pos.stVal')])\n"
     ]
    }
   ],
   "source": [
    "for x in input_file:\n",
    "    print(x)"
   ]
  },
  {
   "cell_type": "code",
   "execution_count": 124,
   "metadata": {},
   "outputs": [
    {
     "data": {
      "text/plain": [
       "['DWORD', 'FLOAT', 'BIT']"
      ]
     },
     "execution_count": 124,
     "metadata": {},
     "output_type": "execute_result"
    }
   ],
   "source": []
  },
  {
   "cell_type": "code",
   "execution_count": null,
   "metadata": {},
   "outputs": [],
   "source": [
    "for"
   ]
  }
 ],
 "metadata": {
  "kernelspec": {
   "display_name": "Python 3",
   "language": "python",
   "name": "python3"
  },
  "language_info": {
   "codemirror_mode": {
    "name": "ipython",
    "version": 3
   },
   "file_extension": ".py",
   "mimetype": "text/x-python",
   "name": "python",
   "nbconvert_exporter": "python",
   "pygments_lexer": "ipython3",
   "version": "3.7.0"
  }
 },
 "nbformat": 4,
 "nbformat_minor": 2
}
