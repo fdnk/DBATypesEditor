{
 "cells": [
  {
   "cell_type": "code",
   "execution_count": 6,
   "metadata": {},
   "outputs": [
    {
     "name": "stdout",
     "output_type": "stream",
     "text": [
      "Fecha de creación del XML: 3/27/2020 6:13:25 PM\n",
      "Tipos encontrados: ['PC_FEEDER_GIS_V1']\n"
     ]
    }
   ],
   "source": [
    "#import xml.etree.ElementTree as ET\n",
    "from lxml import etree as ET\n",
    "parser = ET.XMLParser(strip_cdata=False)\n",
    "\n",
    "tree = ET.parse('feedergis1.xml', parser)\n",
    "tree.write('feedergis1_clone.xml')\n",
    "root = tree.getroot()\n",
    "print(\"Fecha de creación del XML:\",root.attrib['Date'])\n",
    "\n",
    "# Obtengo los nombres de cada elemento del documento\n",
    "childs = list(map(lambda x: x.attrib['Na'], root))\n",
    "print(\"Tipos encontrados:\", childs)"
   ]
  },
  {
   "cell_type": "code",
   "execution_count": null,
   "metadata": {},
   "outputs": [],
   "source": [
    "# Rescato el primer elemento\n",
    "elem = root[0]\n",
    "elem.attrib"
   ]
  },
  {
   "cell_type": "code",
   "execution_count": null,
   "metadata": {},
   "outputs": [],
   "source": [
    "templates = ET.parse('templates.xml')\n",
    "\n",
    "temps = templates.getroot()\n",
    "tipos = list(map(lambda x: x.attrib['type'], temps))\n",
    "\n",
    "ET.tostring(temps[4], encoding='unicode')"
   ]
  },
  {
   "cell_type": "code",
   "execution_count": null,
   "metadata": {},
   "outputs": [],
   "source": []
  },
  {
   "cell_type": "code",
   "execution_count": null,
   "metadata": {},
   "outputs": [],
   "source": [
    "[x for x in tipos if \"O\" in x]"
   ]
  },
  {
   "cell_type": "code",
   "execution_count": null,
   "metadata": {},
   "outputs": [],
   "source": [
    "ET.tostring(temps[4], encoding='unicode')\n",
    "temps[4].attrib['placeholds'].split(' ')"
   ]
  },
  {
   "cell_type": "code",
   "execution_count": null,
   "metadata": {},
   "outputs": [],
   "source": [
    "# En el template hago los reemplazos de texto, y vuelvo a convertir a XML\n",
    "new_elem_str=ET.tostring(temps[0], encoding='unicode')\n",
    "new_elem = ET.fromstring(new_elem_str)\n",
    "\n",
    "print(new_elem_str)"
   ]
  },
  {
   "cell_type": "code",
   "execution_count": null,
   "metadata": {},
   "outputs": [],
   "source": [
    "# Debo volcar el contenido del template en el archivo principal (ojo! excluir la raiz)\n",
    "for x in new_elem:\n",
    "    elem.append(x)"
   ]
  },
  {
   "cell_type": "code",
   "execution_count": null,
   "metadata": {},
   "outputs": [],
   "source": [
    "tree.write('output.xml')"
   ]
  },
  {
   "cell_type": "code",
   "execution_count": null,
   "metadata": {},
   "outputs": [],
   "source": [
    "len(root)"
   ]
  },
  {
   "cell_type": "code",
   "execution_count": null,
   "metadata": {},
   "outputs": [],
   "source": [
    "import csv"
   ]
  },
  {
   "cell_type": "code",
   "execution_count": null,
   "metadata": {},
   "outputs": [],
   "source": [
    "input_file = csv.DictReader(open(\"input.csv\"), delimiter=';')\n",
    "x=input_file.fieldnames\n",
    "\n",
    "len(set(x))==len(x)"
   ]
  },
  {
   "cell_type": "code",
   "execution_count": null,
   "metadata": {},
   "outputs": [],
   "source": [
    "b = 0\n",
    "for x in input_file:\n",
    "    b=x\n",
    "    \n",
    "b"
   ]
  },
  {
   "cell_type": "code",
   "execution_count": null,
   "metadata": {},
   "outputs": [],
   "source": [
    "for x in input_file:\n",
    "    print(x)"
   ]
  },
  {
   "cell_type": "code",
   "execution_count": null,
   "metadata": {},
   "outputs": [],
   "source": []
  },
  {
   "cell_type": "code",
   "execution_count": null,
   "metadata": {},
   "outputs": [],
   "source": [
    "for"
   ]
  }
 ],
 "metadata": {
  "kernelspec": {
   "display_name": "Python 3",
   "language": "python",
   "name": "python3"
  },
  "language_info": {
   "codemirror_mode": {
    "name": "ipython",
    "version": 3
   },
   "file_extension": ".py",
   "mimetype": "text/x-python",
   "name": "python",
   "nbconvert_exporter": "python",
   "pygments_lexer": "ipython3",
   "version": "3.7.0"
  }
 },
 "nbformat": 4,
 "nbformat_minor": 2
}
